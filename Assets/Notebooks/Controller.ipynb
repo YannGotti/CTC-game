{
 "cells": [
  {
   "cell_type": "markdown",
   "metadata": {},
   "source": [
    "# GameController.cs\n",
    "## Создание сетки разметки\n",
    "### GenerateGrid()"
   ]
  },
  {
   "cell_type": "code",
   "execution_count": null,
   "metadata": {
    "dotnet_interactive": {
     "language": "csharp"
    },
    "vscode": {
     "languageId": "dotnet-interactive.csharp"
    }
   },
   "outputs": [
    {
     "data": {
      "text/html": [
       "<div><div></div><div></div><div><strong>Installed Packages</strong><ul><li><span>Unity3D.SDK, 2021.1.14.1</span></li></ul></div></div>"
      ]
     },
     "metadata": {},
     "output_type": "display_data"
    }
   ],
   "source": [
    "#r \"nuget:Unity3D.SDK, 2021.1.14.1\"\n",
    "using UnityEngine;\n",
    "\n",
    "public class GameController : MonoBehaviour\n",
    "{\n",
    "\n",
    "    float _width = 3, _height = 2;\n",
    "    List<Sprite> _colors;\n",
    "    private Sprite _blueCell;\n",
    "    private Sprite _redCell;\n",
    "    private Sprite _greenCell;\n",
    "    private Sprite _purpleCell;\n",
    "\n",
    "    #region Тело метода\n",
    "    void GenerateGrid()\n",
    "    {\n",
    "        for (float x = -2.8f; x < _width; x += 0.7f)\n",
    "        {\n",
    "            for (float y = -3.8f; y < _height; y += 0.7f)\n",
    "            {\n",
    "                System.Console.WriteLine(\"x: {0} y: {1}\", x, y);\n",
    "                // Выполнение действия\n",
    "            }\n",
    "        }\n",
    "        \n",
    "    }\n",
    "\n",
    "    #endregion\n",
    "    void RandomizeSprite(SpriteRenderer spriteRender)\n",
    "    {\n",
    "        var color = Randomize();\n",
    "\n",
    "        while (_colors.Count > 9 && color == _colors[_colors.Count - 9] || _colors.Count > 1 && color == _colors[_colors.Count - 1])\n",
    "            color = Randomize();\n",
    "\n",
    "        _colors.Add(color);\n",
    "        spriteRender.sprite = color;\n",
    "    }\n",
    "\n",
    "    Sprite Randomize()\n",
    "    {\n",
    "        int rand = Random.Range(0, 4);\n",
    "\n",
    "        if (rand == 0) return _blueCell;\n",
    "        if (rand == 1) return _greenCell;\n",
    "        if (rand == 2) return _redCell;\n",
    "        if (rand == 3) return _purpleCell;\n",
    "\n",
    "        return null;\n",
    "    }\n",
    "}"
   ]
  },
  {
   "cell_type": "markdown",
   "metadata": {},
   "source": [
    "### RandomizeSprite()"
   ]
  },
  {
   "cell_type": "code",
   "execution_count": null,
   "metadata": {
    "vscode": {
     "languageId": "dotnet-interactive.csharp"
    }
   },
   "outputs": [
    {
     "ename": "Error",
     "evalue": "(11,1): error CS7017: Требуется определение члена, оператор или признак конца файла",
     "output_type": "error",
     "traceback": [
      "(11,1): error CS7017: Требуется определение члена, оператор или признак конца файла"
     ]
    }
   ],
   "source": []
  },
  {
   "cell_type": "markdown",
   "metadata": {},
   "source": [
    "### Randomize()"
   ]
  },
  {
   "cell_type": "code",
   "execution_count": null,
   "metadata": {
    "dotnet_interactive": {
     "language": "csharp"
    },
    "vscode": {
     "languageId": "dotnet-interactive.csharp"
    }
   },
   "outputs": [],
   "source": []
  }
 ],
 "metadata": {
  "kernelspec": {
   "display_name": ".NET (C#)",
   "language": "C#",
   "name": ".net-csharp"
  },
  "language_info": {
   "name": "C#"
  },
  "orig_nbformat": 4
 },
 "nbformat": 4,
 "nbformat_minor": 2
}
